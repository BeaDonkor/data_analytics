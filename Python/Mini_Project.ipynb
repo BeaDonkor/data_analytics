{
  "nbformat": 4,
  "nbformat_minor": 0,
  "metadata": {
    "colab": {
      "name": "Mini Project.ipynb",
      "provenance": []
    },
    "kernelspec": {
      "name": "python3",
      "display_name": "Python 3"
    }
  },
  "cells": [
    {
      "cell_type": "code",
      "metadata": {
        "colab": {
          "base_uri": "https://localhost:8080/",
          "height": 0
        },
        "id": "LsmwifgOJPDY",
        "outputId": "4a798b6f-6ba6-44ef-8469-f072da0df21f"
      },
      "source": [
        "#Display a greeting to user\r\n",
        "def greeting():\r\n",
        "  \"\"\"This fucntion displays a greeting\"\"\"\r\n",
        "  print('Welcome to our site Jean Paul! ')\r\n",
        "\r\n",
        "greeting()"
      ],
      "execution_count": 42,
      "outputs": [
        {
          "output_type": "stream",
          "text": [
            "Welcome to our site Jean Paul! \n"
          ],
          "name": "stdout"
        }
      ]
    },
    {
      "cell_type": "code",
      "metadata": {
        "colab": {
          "base_uri": "https://localhost:8080/"
        },
        "id": "zQs_e0wyatEE",
        "outputId": "dc4effcc-398e-4921-ee4c-f9339166e6d6"
      },
      "source": [
        "#Ask user to enter any numerical value to yield an odd or even number \r\n",
        "#key: % <--- is used to find the modulus of two integers\r\n",
        "number= int(input('Please enter any numerical value: '))\r\n",
        "if (num%2==0) :\r\n",
        "#display message if: \r\n",
        "  print('\\n Your input value  is an even number')\r\n",
        "else:\r\n",
        "  print('\\n Your input value is an odd number ')\r\n",
        "\r\n",
        "\r\n",
        "\r\n"
      ],
      "execution_count": 82,
      "outputs": [
        {
          "output_type": "stream",
          "text": [
            "Please enter any numerical value: 6\n",
            "\n",
            " Your input value is an odd number \n"
          ],
          "name": "stdout"
        }
      ]
    },
    {
      "cell_type": "code",
      "metadata": {
        "colab": {
          "base_uri": "https://localhost:8080/"
        },
        "id": "YKSwu9UBddfz",
        "outputId": "5b58d896-1ce5-4f7e-c37b-825b6fde8400"
      },
      "source": [
        "#Bonus Questions\r\n",
        "# If the number is a multiple of 4, print out a different message\r\n",
        "number=int(input('Please enter any numerical value:'))\r\n",
        "if (number%4==0) : \r\n",
        "#display message if: \r\n",
        " print('\\n Your input value is a multiple is of 4')\r\n",
        "else:\r\n",
        "  print('\\n Your input value is not a multiple of 4 ')\r\n",
        "\r\n",
        "\r\n",
        "\r\n"
      ],
      "execution_count": 76,
      "outputs": [
        {
          "output_type": "stream",
          "text": [
            "Please enter any numerical value:16\n",
            "\n",
            " Your input value is a multiple is of 4\n"
          ],
          "name": "stdout"
        }
      ]
    },
    {
      "cell_type": "code",
      "metadata": {
        "colab": {
          "base_uri": "https://localhost:8080/"
        },
        "id": "UcbqG3JB8o3d",
        "outputId": "929f022e-3df9-461b-8aad-619f227169ab"
      },
      "source": [
        "#Prompt user to use two numerical values \r\n",
        "number=int(input('Enter first numerical value '))\r\n",
        "check=int(input('Enter second numerical value '))\r\n",
        "if (number%check==0) :\r\n",
        "  print('\\n The first number could be divided evenly by the second number')\r\n",
        "else:\r\n",
        "  print('\\n The first number could not be divided evenly by the second number')\r\n"
      ],
      "execution_count": 81,
      "outputs": [
        {
          "output_type": "stream",
          "text": [
            "Enter first numerical value 4\n",
            "Enter second numerical value 2\n",
            "\n",
            " The first number could be divided evenly by the second number\n"
          ],
          "name": "stdout"
        }
      ]
    },
    {
      "cell_type": "code",
      "metadata": {
        "colab": {
          "base_uri": "https://localhost:8080/"
        },
        "id": "zA-sh6CiK38Q",
        "outputId": "0d1757e8-35b3-4945-99fd-19ba6eaf4e79"
      },
      "source": [
        "#Write a custom fuction for finding whether the number is even or  odd\r\n",
        "def evenodd(num):\r\n",
        " if (num%2==0): \r\n",
        "   print(num, ' is even')\r\n",
        " else: \r\n",
        "  print(num, ' is odd')\r\n",
        "\r\n",
        "#Main Program Code\r\n",
        "evenodd(23)\r\n",
        "evenodd(8)\r\n",
        "evenodd(60)\r\n",
        "evenodd(12)\r\n",
        "evenodd(21)\r\n",
        "evenodd(89)\r\n"
      ],
      "execution_count": 103,
      "outputs": [
        {
          "output_type": "stream",
          "text": [
            "23  is odd\n",
            "8  is even\n",
            "60  is even\n",
            "12  is even\n",
            "21  is odd\n",
            "89  is odd\n"
          ],
          "name": "stdout"
        }
      ]
    },
    {
      "cell_type": "code",
      "metadata": {
        "id": "2tN1gGRYqkIM"
      },
      "source": [
        ""
      ],
      "execution_count": null,
      "outputs": []
    }
  ]
}